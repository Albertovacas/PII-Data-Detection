{
 "cells": [
  {
   "cell_type": "code",
   "execution_count": 10,
   "metadata": {},
   "outputs": [],
   "source": [
    "import pandas as pd\n",
    "import numpy as np\n",
    "import json\n",
    "import os, sys\n",
    "import matplotlib.pyplot as plt\n",
    "current_directory = os.getcwd()\n",
    "sys.path.append(f'{current_directory}/../src/')\n",
    "\n",
    "from transformers import AutoTokenizer\n",
    "import keras\n",
    "import helpers as hp\n"
   ]
  },
  {
   "cell_type": "markdown",
   "metadata": {},
   "source": [
    "## 1. Load Data"
   ]
  },
  {
   "cell_type": "code",
   "execution_count": 2,
   "metadata": {},
   "outputs": [],
   "source": [
    "# Train-Valid data\n",
    "data = json.load(open(f'{current_directory}/../data/train.json'))\n",
    "\n",
    "#labels\n",
    "labels = [\"B-EMAIL\", \"B-ID_NUM\", \"B-NAME_STUDENT\", \"B-PHONE_NUM\",\n",
    "        \"B-STREET_ADDRESS\", \"B-URL_PERSONAL\", \"B-USERNAME\",\n",
    "        \"I-ID_NUM\", \"I-NAME_STUDENT\", \"I-PHONE_NUM\",\n",
    "        \"I-STREET_ADDRESS\",\"I-URL_PERSONAL\",\"O\"]\n",
    "\n",
    "help = hp.helpers(labels,data)"
   ]
  },
  {
   "cell_type": "code",
   "execution_count": 3,
   "metadata": {},
   "outputs": [],
   "source": [
    "#Convert labels to ids\n",
    "data = help.labels_to_ids()"
   ]
  },
  {
   "cell_type": "markdown",
   "metadata": {
    "vscode": {
     "languageId": "latex"
    }
   },
   "source": [
    "## 2. Plot Labels"
   ]
  },
  {
   "cell_type": "code",
   "execution_count": null,
   "metadata": {},
   "outputs": [],
   "source": [
    "# Get unique labels and their frequency\n",
    "all_labels = np.array([x for label in labels for x in label])\n",
    "unique_labels, label_counts = np.unique(all_labels, return_counts=True)\n",
    "labels_plt = [id2label[i] for i in unique_labels]\n",
    "\n",
    "def addlabels(x,y):\n",
    "    for i in range(len(x)):\n",
    "        plt.text(i, y[i], y[i], ha = 'center')\n",
    "        \n",
    "plt.figure(figsize =(25, 10))\n",
    "plt.bar(labels_plt,label_counts)\n",
    "addlabels(labels_plt, label_counts)\n",
    "plt.yscale(\"log\")\n",
    "plt.show()"
   ]
  },
  {
   "cell_type": "markdown",
   "metadata": {},
   "source": [
    "## 3. Preprocessing"
   ]
  },
  {
   "cell_type": "markdown",
   "metadata": {},
   "source": [
    "### 3.1 Tokenization"
   ]
  },
  {
   "cell_type": "code",
   "execution_count": 4,
   "metadata": {},
   "outputs": [],
   "source": [
    "from transformers import AutoTokenizer\n",
    "\n",
    "tokenizer = AutoTokenizer.from_pretrained(\"distilbert/distilbert-base-uncased\")\n",
    "tokenized_data = help.token_data(tokenizer)"
   ]
  },
  {
   "cell_type": "markdown",
   "metadata": {},
   "source": [
    "#### Example of tokenization"
   ]
  },
  {
   "cell_type": "code",
   "execution_count": 9,
   "metadata": {},
   "outputs": [
    {
     "name": "stdout",
     "output_type": "stream",
     "text": [
      "['[CLS]', 'design', 'thinking', 'for', 'innovation', 'reflex', '##ion', '-', 'av', '##ril', '2021', '-', 'nat', '##hal', '##ie', 'sy', '##lla', 'challenge', '&', 'selection']\n",
      "[101, 2640, 3241, 2005, 8144, 22259, 3258, 1011, 20704, 15928, 25682, 1011, 14085, 8865, 2666, 25353, 4571, 4119, 1004, 4989]\n",
      "[None, 0, 1, 2, 3, 4, 4, 5, 6, 6, 7, 8, 9, 9, 9, 10, 10, 12, 13, 14]\n",
      "[-100, 12, 12, 12, 12, 12, -100, 12, 12, -100, 12, 12, 2, -100, -100, 8, -100, 12, 12, 12]\n"
     ]
    }
   ],
   "source": [
    "print(tokenizer.convert_ids_to_tokens(tokenized_data[0][\"input_ids\"])[0:20])\n",
    "print(tokenized_data[0][\"input_ids\"][0:20])\n",
    "print(tokenized_data[0].word_ids(batch_index=0)[0:20])\n",
    "print(tokenized_data[0][\"labels_ids\"][0:20])"
   ]
  },
  {
   "cell_type": "code",
   "execution_count": null,
   "metadata": {},
   "outputs": [],
   "source": []
  }
 ],
 "metadata": {
  "kernelspec": {
   "display_name": "Python 3",
   "language": "python",
   "name": "python3"
  },
  "language_info": {
   "codemirror_mode": {
    "name": "ipython",
    "version": 3
   },
   "file_extension": ".py",
   "mimetype": "text/x-python",
   "name": "python",
   "nbconvert_exporter": "python",
   "pygments_lexer": "ipython3",
   "version": "3.7.6"
  }
 },
 "nbformat": 4,
 "nbformat_minor": 2
}
